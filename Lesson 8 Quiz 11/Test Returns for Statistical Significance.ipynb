{
 "metadata": {
  "language_info": {
   "codemirror_mode": {
    "name": "ipython",
    "version": 3
   },
   "file_extension": ".py",
   "mimetype": "text/x-python",
   "name": "python",
   "nbconvert_exporter": "python",
   "pygments_lexer": "ipython3",
   "version": "3.8.5-final"
  },
  "orig_nbformat": 2,
  "kernelspec": {
   "name": "python3",
   "display_name": "Python 3",
   "language": "python"
  }
 },
 "nbformat": 4,
 "nbformat_minor": 2,
 "cells": [
  {
   "cell_type": "code",
   "execution_count": 1,
   "metadata": {},
   "outputs": [],
   "source": [
    "import pandas as pd\n",
    "import numpy as np\n",
    "import scipy.stats as stats\n",
    "\n",
    "def analyze_returns(net_returns):\n",
    "    \"\"\"\n",
    "    Perform a t-test, with the null hypothesis being that the mean return is zero.\n",
    "    \n",
    "    Parameters\n",
    "    ----------\n",
    "    net_returns : Pandas Series\n",
    "        A Pandas Series for each date\n",
    "    \n",
    "    Returns\n",
    "    -------\n",
    "    t_value\n",
    "        t-statistic from t-test\n",
    "    p_value\n",
    "        Corresponding p-value\n",
    "    \"\"\"\n",
    "    # TODO: Perform one-tailed t-test on net_returns\n",
    "    # Hint: You can use stats.ttest_1samp() to perform the test.\n",
    "    #       However, this performs a two-tailed t-test.\n",
    "    #       You'll need to divde the p-value by 2 to get the results of a one-tailed p-value.\n",
    "    null_hypothesis = 0.0\n",
    "    mean = null_hypothesis\n",
    "    statistic, two_tailed_pvalue = stats.ttest_1samp(net_returns['return'], 0)\n",
    "    one_tailed_pvalue = two_tailed_pvalue / 2.0\n",
    "\n",
    "    return statistic, one_tailed_pvalue\n",
    "    \n",
    "\n"
   ]
  },
  {
   "cell_type": "code",
   "execution_count": 2,
   "metadata": {},
   "outputs": [
    {
     "output_type": "execute_result",
     "data": {
      "text/plain": [
       "         date    return\n",
       "0  2014-11-30  0.011636\n",
       "1  2014-12-31  0.021954\n",
       "2  2015-01-31  0.040887\n",
       "3  2015-02-28 -0.002511\n",
       "4  2015-03-31  0.017259"
      ],
      "text/html": "<div>\n<style scoped>\n    .dataframe tbody tr th:only-of-type {\n        vertical-align: middle;\n    }\n\n    .dataframe tbody tr th {\n        vertical-align: top;\n    }\n\n    .dataframe thead th {\n        text-align: right;\n    }\n</style>\n<table border=\"1\" class=\"dataframe\">\n  <thead>\n    <tr style=\"text-align: right;\">\n      <th></th>\n      <th>date</th>\n      <th>return</th>\n    </tr>\n  </thead>\n  <tbody>\n    <tr>\n      <th>0</th>\n      <td>2014-11-30</td>\n      <td>0.011636</td>\n    </tr>\n    <tr>\n      <th>1</th>\n      <td>2014-12-31</td>\n      <td>0.021954</td>\n    </tr>\n    <tr>\n      <th>2</th>\n      <td>2015-01-31</td>\n      <td>0.040887</td>\n    </tr>\n    <tr>\n      <th>3</th>\n      <td>2015-02-28</td>\n      <td>-0.002511</td>\n    </tr>\n    <tr>\n      <th>4</th>\n      <td>2015-03-31</td>\n      <td>0.017259</td>\n    </tr>\n  </tbody>\n</table>\n</div>"
     },
     "metadata": {},
     "execution_count": 2
    }
   ],
   "source": [
    "filename='net_returns.csv'\n",
    "\"\"\"Test run analyze_returns() with net strategy returns from a file.\"\"\"\n",
    "net_returns = pd.read_csv(filename)\n",
    "net_returns.head()"
   ]
  },
  {
   "cell_type": "code",
   "execution_count": 3,
   "metadata": {},
   "outputs": [
    {
     "output_type": "stream",
     "name": "stdout",
     "text": [
      "t-statistic: 0.760\np-value: 0.226606\n"
     ]
    }
   ],
   "source": [
    "t, p = analyze_returns(net_returns)\n",
    "print(\"t-statistic: {:.3f}\\np-value: {:.6f}\".format(t, p))"
   ]
  }
 ]
}